{
 "cells": [
  {
   "cell_type": "markdown",
   "id": "32274c87",
   "metadata": {},
   "source": [
    "# Introduction\n",
    "\n",
    "[docs link](https://docs.reportlab.com/reportlab/userguide/ch1_intro/)\n",
    "\n",
    "Going through and recording important points from reportlab docs.\n",
    "\n",
    "## About this document\n",
    "\n",
    "This manual does not cover 100% of the features, but all main concepts to get started are explained. Post this tutorial you should be ready to create sophisticated reports.\n",
    "\n",
    "In this chapter\n",
    "1. What is reportlab?\n",
    "2. Why to use it?\n",
    "3. How do I get everything up and running?\n",
    "\n",
    "## What is reportLab PDF lib?\n",
    "\n",
    "Let's you create PDF using Python. Also created charts & graphics in various formats.\n",
    "\n",
    "PDF format is a complex indexed binary format which is impossible to type directly. The PDF format specifications in 600 pages long and PDF files must provide precise bytes offset -- a single extrac character places anywhere in a valid PDF can render it invalid. Harder to generate than HTML.\n",
    "\n",
    "The ReportLab library creates PDF based on your commands. It is very fast. Similar approach is shared by PDFlib for C, iText for Java, iTextSharp for .NET and others.\n",
    "\n",
    "Resuable code can created across a family of reports. Uses of ReportLab\n",
    "1. Dynamic PDF generation.\n",
    "2. High-volume corporate reporting and database publishing.\n",
    "\n",
    "## Reportlab's commercial software\n",
    "\n",
    "This library forms the foundation for their commercial solution for PDF Generation, Report Markup Language (RML)."
   ]
  }
 ],
 "metadata": {
  "language_info": {
   "name": "python"
  }
 },
 "nbformat": 4,
 "nbformat_minor": 5
}
